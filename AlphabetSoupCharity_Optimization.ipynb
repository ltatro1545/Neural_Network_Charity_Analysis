{
 "cells": [
  {
   "cell_type": "markdown",
   "metadata": {},
   "source": [
    "### Deliverable 1: Preprocessing the Data for a Neural Network"
   ]
  },
  {
   "cell_type": "code",
   "execution_count": 1,
   "metadata": {},
   "outputs": [],
   "source": [
    "# Import our dependencies\n",
    "from sklearn.model_selection import train_test_split\n",
    "from sklearn.preprocessing import StandardScaler,OneHotEncoder\n",
    "from tensorflow.keras.callbacks import ModelCheckpoint\n",
    "\n",
    "import os\n",
    "import pandas as pd\n",
    "import tensorflow as tf"
   ]
  },
  {
   "cell_type": "code",
   "execution_count": 2,
   "metadata": {},
   "outputs": [
    {
     "data": {
      "text/html": [
       "<div>\n",
       "<style scoped>\n",
       "    .dataframe tbody tr th:only-of-type {\n",
       "        vertical-align: middle;\n",
       "    }\n",
       "\n",
       "    .dataframe tbody tr th {\n",
       "        vertical-align: top;\n",
       "    }\n",
       "\n",
       "    .dataframe thead th {\n",
       "        text-align: right;\n",
       "    }\n",
       "</style>\n",
       "<table border=\"1\" class=\"dataframe\">\n",
       "  <thead>\n",
       "    <tr style=\"text-align: right;\">\n",
       "      <th></th>\n",
       "      <th>EIN</th>\n",
       "      <th>NAME</th>\n",
       "      <th>APPLICATION_TYPE</th>\n",
       "      <th>AFFILIATION</th>\n",
       "      <th>CLASSIFICATION</th>\n",
       "      <th>USE_CASE</th>\n",
       "      <th>ORGANIZATION</th>\n",
       "      <th>STATUS</th>\n",
       "      <th>INCOME_AMT</th>\n",
       "      <th>SPECIAL_CONSIDERATIONS</th>\n",
       "      <th>ASK_AMT</th>\n",
       "      <th>IS_SUCCESSFUL</th>\n",
       "    </tr>\n",
       "  </thead>\n",
       "  <tbody>\n",
       "    <tr>\n",
       "      <th>0</th>\n",
       "      <td>10520599</td>\n",
       "      <td>BLUE KNIGHTS MOTORCYCLE CLUB</td>\n",
       "      <td>T10</td>\n",
       "      <td>Independent</td>\n",
       "      <td>C1000</td>\n",
       "      <td>ProductDev</td>\n",
       "      <td>Association</td>\n",
       "      <td>1</td>\n",
       "      <td>0</td>\n",
       "      <td>N</td>\n",
       "      <td>5000</td>\n",
       "      <td>1</td>\n",
       "    </tr>\n",
       "    <tr>\n",
       "      <th>1</th>\n",
       "      <td>10531628</td>\n",
       "      <td>AMERICAN CHESAPEAKE CLUB CHARITABLE TR</td>\n",
       "      <td>T3</td>\n",
       "      <td>Independent</td>\n",
       "      <td>C2000</td>\n",
       "      <td>Preservation</td>\n",
       "      <td>Co-operative</td>\n",
       "      <td>1</td>\n",
       "      <td>1-9999</td>\n",
       "      <td>N</td>\n",
       "      <td>108590</td>\n",
       "      <td>1</td>\n",
       "    </tr>\n",
       "    <tr>\n",
       "      <th>2</th>\n",
       "      <td>10547893</td>\n",
       "      <td>ST CLOUD PROFESSIONAL FIREFIGHTERS</td>\n",
       "      <td>T5</td>\n",
       "      <td>CompanySponsored</td>\n",
       "      <td>C3000</td>\n",
       "      <td>ProductDev</td>\n",
       "      <td>Association</td>\n",
       "      <td>1</td>\n",
       "      <td>0</td>\n",
       "      <td>N</td>\n",
       "      <td>5000</td>\n",
       "      <td>0</td>\n",
       "    </tr>\n",
       "    <tr>\n",
       "      <th>3</th>\n",
       "      <td>10553066</td>\n",
       "      <td>SOUTHSIDE ATHLETIC ASSOCIATION</td>\n",
       "      <td>T3</td>\n",
       "      <td>CompanySponsored</td>\n",
       "      <td>C2000</td>\n",
       "      <td>Preservation</td>\n",
       "      <td>Trust</td>\n",
       "      <td>1</td>\n",
       "      <td>10000-24999</td>\n",
       "      <td>N</td>\n",
       "      <td>6692</td>\n",
       "      <td>1</td>\n",
       "    </tr>\n",
       "    <tr>\n",
       "      <th>4</th>\n",
       "      <td>10556103</td>\n",
       "      <td>GENETIC RESEARCH INSTITUTE OF THE DESERT</td>\n",
       "      <td>T3</td>\n",
       "      <td>Independent</td>\n",
       "      <td>C1000</td>\n",
       "      <td>Heathcare</td>\n",
       "      <td>Trust</td>\n",
       "      <td>1</td>\n",
       "      <td>100000-499999</td>\n",
       "      <td>N</td>\n",
       "      <td>142590</td>\n",
       "      <td>1</td>\n",
       "    </tr>\n",
       "  </tbody>\n",
       "</table>\n",
       "</div>"
      ],
      "text/plain": [
       "        EIN                                      NAME APPLICATION_TYPE  \\\n",
       "0  10520599              BLUE KNIGHTS MOTORCYCLE CLUB              T10   \n",
       "1  10531628    AMERICAN CHESAPEAKE CLUB CHARITABLE TR               T3   \n",
       "2  10547893        ST CLOUD PROFESSIONAL FIREFIGHTERS               T5   \n",
       "3  10553066            SOUTHSIDE ATHLETIC ASSOCIATION               T3   \n",
       "4  10556103  GENETIC RESEARCH INSTITUTE OF THE DESERT               T3   \n",
       "\n",
       "        AFFILIATION CLASSIFICATION      USE_CASE  ORGANIZATION  STATUS  \\\n",
       "0       Independent          C1000    ProductDev   Association       1   \n",
       "1       Independent          C2000  Preservation  Co-operative       1   \n",
       "2  CompanySponsored          C3000    ProductDev   Association       1   \n",
       "3  CompanySponsored          C2000  Preservation         Trust       1   \n",
       "4       Independent          C1000     Heathcare         Trust       1   \n",
       "\n",
       "      INCOME_AMT SPECIAL_CONSIDERATIONS  ASK_AMT  IS_SUCCESSFUL  \n",
       "0              0                      N     5000              1  \n",
       "1         1-9999                      N   108590              1  \n",
       "2              0                      N     5000              0  \n",
       "3    10000-24999                      N     6692              1  \n",
       "4  100000-499999                      N   142590              1  "
      ]
     },
     "execution_count": 2,
     "metadata": {},
     "output_type": "execute_result"
    }
   ],
   "source": [
    "#  Import and read the charity_data.csv.\n",
    "application_df = pd.read_csv(\"Resources/charity_data.csv\")\n",
    "application_df.head()"
   ]
  },
  {
   "cell_type": "code",
   "execution_count": 3,
   "metadata": {},
   "outputs": [
    {
     "data": {
      "text/html": [
       "<div>\n",
       "<style scoped>\n",
       "    .dataframe tbody tr th:only-of-type {\n",
       "        vertical-align: middle;\n",
       "    }\n",
       "\n",
       "    .dataframe tbody tr th {\n",
       "        vertical-align: top;\n",
       "    }\n",
       "\n",
       "    .dataframe thead th {\n",
       "        text-align: right;\n",
       "    }\n",
       "</style>\n",
       "<table border=\"1\" class=\"dataframe\">\n",
       "  <thead>\n",
       "    <tr style=\"text-align: right;\">\n",
       "      <th></th>\n",
       "      <th>NAME</th>\n",
       "      <th>APPLICATION_TYPE</th>\n",
       "      <th>AFFILIATION</th>\n",
       "      <th>CLASSIFICATION</th>\n",
       "      <th>USE_CASE</th>\n",
       "      <th>ORGANIZATION</th>\n",
       "      <th>STATUS</th>\n",
       "      <th>INCOME_AMT</th>\n",
       "      <th>SPECIAL_CONSIDERATIONS</th>\n",
       "      <th>ASK_AMT</th>\n",
       "      <th>IS_SUCCESSFUL</th>\n",
       "    </tr>\n",
       "  </thead>\n",
       "  <tbody>\n",
       "    <tr>\n",
       "      <th>0</th>\n",
       "      <td>BLUE KNIGHTS MOTORCYCLE CLUB</td>\n",
       "      <td>T10</td>\n",
       "      <td>Independent</td>\n",
       "      <td>C1000</td>\n",
       "      <td>ProductDev</td>\n",
       "      <td>Association</td>\n",
       "      <td>1</td>\n",
       "      <td>0</td>\n",
       "      <td>N</td>\n",
       "      <td>5000</td>\n",
       "      <td>1</td>\n",
       "    </tr>\n",
       "    <tr>\n",
       "      <th>1</th>\n",
       "      <td>AMERICAN CHESAPEAKE CLUB CHARITABLE TR</td>\n",
       "      <td>T3</td>\n",
       "      <td>Independent</td>\n",
       "      <td>C2000</td>\n",
       "      <td>Preservation</td>\n",
       "      <td>Co-operative</td>\n",
       "      <td>1</td>\n",
       "      <td>1-9999</td>\n",
       "      <td>N</td>\n",
       "      <td>108590</td>\n",
       "      <td>1</td>\n",
       "    </tr>\n",
       "    <tr>\n",
       "      <th>2</th>\n",
       "      <td>ST CLOUD PROFESSIONAL FIREFIGHTERS</td>\n",
       "      <td>T5</td>\n",
       "      <td>CompanySponsored</td>\n",
       "      <td>C3000</td>\n",
       "      <td>ProductDev</td>\n",
       "      <td>Association</td>\n",
       "      <td>1</td>\n",
       "      <td>0</td>\n",
       "      <td>N</td>\n",
       "      <td>5000</td>\n",
       "      <td>0</td>\n",
       "    </tr>\n",
       "    <tr>\n",
       "      <th>3</th>\n",
       "      <td>SOUTHSIDE ATHLETIC ASSOCIATION</td>\n",
       "      <td>T3</td>\n",
       "      <td>CompanySponsored</td>\n",
       "      <td>C2000</td>\n",
       "      <td>Preservation</td>\n",
       "      <td>Trust</td>\n",
       "      <td>1</td>\n",
       "      <td>10000-24999</td>\n",
       "      <td>N</td>\n",
       "      <td>6692</td>\n",
       "      <td>1</td>\n",
       "    </tr>\n",
       "    <tr>\n",
       "      <th>4</th>\n",
       "      <td>GENETIC RESEARCH INSTITUTE OF THE DESERT</td>\n",
       "      <td>T3</td>\n",
       "      <td>Independent</td>\n",
       "      <td>C1000</td>\n",
       "      <td>Heathcare</td>\n",
       "      <td>Trust</td>\n",
       "      <td>1</td>\n",
       "      <td>100000-499999</td>\n",
       "      <td>N</td>\n",
       "      <td>142590</td>\n",
       "      <td>1</td>\n",
       "    </tr>\n",
       "  </tbody>\n",
       "</table>\n",
       "</div>"
      ],
      "text/plain": [
       "                                       NAME APPLICATION_TYPE  \\\n",
       "0              BLUE KNIGHTS MOTORCYCLE CLUB              T10   \n",
       "1    AMERICAN CHESAPEAKE CLUB CHARITABLE TR               T3   \n",
       "2        ST CLOUD PROFESSIONAL FIREFIGHTERS               T5   \n",
       "3            SOUTHSIDE ATHLETIC ASSOCIATION               T3   \n",
       "4  GENETIC RESEARCH INSTITUTE OF THE DESERT               T3   \n",
       "\n",
       "        AFFILIATION CLASSIFICATION      USE_CASE  ORGANIZATION  STATUS  \\\n",
       "0       Independent          C1000    ProductDev   Association       1   \n",
       "1       Independent          C2000  Preservation  Co-operative       1   \n",
       "2  CompanySponsored          C3000    ProductDev   Association       1   \n",
       "3  CompanySponsored          C2000  Preservation         Trust       1   \n",
       "4       Independent          C1000     Heathcare         Trust       1   \n",
       "\n",
       "      INCOME_AMT SPECIAL_CONSIDERATIONS  ASK_AMT  IS_SUCCESSFUL  \n",
       "0              0                      N     5000              1  \n",
       "1         1-9999                      N   108590              1  \n",
       "2              0                      N     5000              0  \n",
       "3    10000-24999                      N     6692              1  \n",
       "4  100000-499999                      N   142590              1  "
      ]
     },
     "execution_count": 3,
     "metadata": {},
     "output_type": "execute_result"
    }
   ],
   "source": [
    "# Drop the non-beneficial ID columns, 'EIN'.\n",
    "application_df = application_df.drop(columns=\"EIN\")\n",
    "application_df.head()"
   ]
  },
  {
   "cell_type": "code",
   "execution_count": 4,
   "metadata": {},
   "outputs": [
    {
     "data": {
      "text/plain": [
       "NAME                      19568\n",
       "APPLICATION_TYPE             17\n",
       "AFFILIATION                   6\n",
       "CLASSIFICATION               71\n",
       "USE_CASE                      5\n",
       "ORGANIZATION                  4\n",
       "STATUS                        2\n",
       "INCOME_AMT                    9\n",
       "SPECIAL_CONSIDERATIONS        2\n",
       "ASK_AMT                    8747\n",
       "IS_SUCCESSFUL                 2\n",
       "dtype: int64"
      ]
     },
     "execution_count": 4,
     "metadata": {},
     "output_type": "execute_result"
    }
   ],
   "source": [
    "# Determine the number of unique values in each column.\n",
    "application_df.nunique()"
   ]
  },
  {
   "cell_type": "code",
   "execution_count": 5,
   "metadata": {},
   "outputs": [
    {
     "name": "stdout",
     "output_type": "stream",
     "text": [
      "1    34294\n",
      "0        5\n",
      "Name: STATUS, dtype: int64\n",
      "N    34272\n",
      "Y       27\n",
      "Name: SPECIAL_CONSIDERATIONS, dtype: int64\n"
     ]
    }
   ],
   "source": [
    "# D3 - Look at STATUS and SPECIAL_CONSIDERATIONS columns value counts (low information columns)\n",
    "print(application_df[\"STATUS\"].value_counts())\n",
    "print(application_df[\"SPECIAL_CONSIDERATIONS\"].value_counts())"
   ]
  },
  {
   "cell_type": "code",
   "execution_count": 6,
   "metadata": {},
   "outputs": [
    {
     "data": {
      "text/plain": [
       "NAME                19568\n",
       "APPLICATION_TYPE       17\n",
       "AFFILIATION             6\n",
       "CLASSIFICATION         71\n",
       "USE_CASE                5\n",
       "ORGANIZATION            4\n",
       "INCOME_AMT              9\n",
       "ASK_AMT              8747\n",
       "IS_SUCCESSFUL           2\n",
       "dtype: int64"
      ]
     },
     "execution_count": 6,
     "metadata": {},
     "output_type": "execute_result"
    }
   ],
   "source": [
    "# Drop both columns\n",
    "application_df = application_df.drop(columns=[\"STATUS\",\"SPECIAL_CONSIDERATIONS\"])\n",
    "application_df.nunique()"
   ]
  },
  {
   "cell_type": "code",
   "execution_count": 7,
   "metadata": {},
   "outputs": [
    {
     "data": {
      "text/plain": [
       "T3     27037\n",
       "T4      1542\n",
       "T6      1216\n",
       "T5      1173\n",
       "T19     1065\n",
       "T8       737\n",
       "T7       725\n",
       "T10      528\n",
       "T9       156\n",
       "T13       66\n",
       "T12       27\n",
       "T2        16\n",
       "T25        3\n",
       "T14        3\n",
       "T29        2\n",
       "T15        2\n",
       "T17        1\n",
       "Name: APPLICATION_TYPE, dtype: int64"
      ]
     },
     "execution_count": 7,
     "metadata": {},
     "output_type": "execute_result"
    }
   ],
   "source": [
    "# Look at APPLICATION_TYPE value counts for binning\n",
    "app_type_count = application_df[\"APPLICATION_TYPE\"].value_counts()\n",
    "app_type_count"
   ]
  },
  {
   "cell_type": "code",
   "execution_count": 8,
   "metadata": {},
   "outputs": [
    {
     "data": {
      "text/plain": [
       "<AxesSubplot:ylabel='Density'>"
      ]
     },
     "execution_count": 8,
     "metadata": {},
     "output_type": "execute_result"
    },
    {
     "data": {
      "image/png": "[encoded data removed]",
      "text/plain": [
       "<Figure size 432x288 with 1 Axes>"
      ]
     },
     "metadata": {
      "needs_background": "light"
     },
     "output_type": "display_data"
    }
   ],
   "source": [
    "# Visualize the value counts of APPLICATION_TYPE\n",
    "app_type_count.plot.density()"
   ]
  },
  {
   "cell_type": "code",
   "execution_count": 9,
   "metadata": {},
   "outputs": [
    {
     "data": {
      "text/plain": [
       "T3       27037\n",
       "T4        1542\n",
       "T6        1216\n",
       "T5        1173\n",
       "T19       1065\n",
       "Other      804\n",
       "T8         737\n",
       "T7         725\n",
       "Name: APPLICATION_TYPE, dtype: int64"
      ]
     },
     "execution_count": 9,
     "metadata": {},
     "output_type": "execute_result"
    }
   ],
   "source": [
    "# Determine which application types to replace if value counts are less than 100\n",
    "replace_application = list(app_type_count[app_type_count < 700].index)\n",
    "\n",
    "# Replace in dataframe\n",
    "for app in replace_application:\n",
    "    application_df.APPLICATION_TYPE = application_df.APPLICATION_TYPE.replace(app,\"Other\")\n",
    "    \n",
    "# Check to make sure binning was successful\n",
    "application_df.APPLICATION_TYPE.value_counts()"
   ]
  },
  {
   "cell_type": "code",
   "execution_count": 10,
   "metadata": {},
   "outputs": [
    {
     "data": {
      "text/plain": [
       "C1000    17326\n",
       "C2000     6074\n",
       "C1200     4837\n",
       "C3000     1918\n",
       "C2100     1883\n",
       "         ...  \n",
       "C4120        1\n",
       "C8210        1\n",
       "C2561        1\n",
       "C4500        1\n",
       "C2150        1\n",
       "Name: CLASSIFICATION, Length: 71, dtype: int64"
      ]
     },
     "execution_count": 10,
     "metadata": {},
     "output_type": "execute_result"
    }
   ],
   "source": [
    "# Look at CLASSIFICATION value counts for binning\n",
    "classification_count = application_df[\"CLASSIFICATION\"].value_counts()\n",
    "classification_count"
   ]
  },
  {
   "cell_type": "code",
   "execution_count": 11,
   "metadata": {},
   "outputs": [
    {
     "data": {
      "text/plain": [
       "<AxesSubplot:ylabel='Density'>"
      ]
     },
     "execution_count": 11,
     "metadata": {},
     "output_type": "execute_result"
    },
    {
     "data": {
      "image/png": "[encoded data removed]",
      "text/plain": [
       "<Figure size 432x288 with 1 Axes>"
      ]
     },
     "metadata": {
      "needs_background": "light"
     },
     "output_type": "display_data"
    }
   ],
   "source": [
    "# Visualize the value counts of CLASSIFICATION\n",
    "classification_count.plot.density()"
   ]
  },
  {
   "cell_type": "code",
   "execution_count": 12,
   "metadata": {},
   "outputs": [
    {
     "data": {
      "text/plain": [
       "C1000    17326\n",
       "C2000     6074\n",
       "C1200     4837\n",
       "Other     2261\n",
       "C3000     1918\n",
       "C2100     1883\n",
       "Name: CLASSIFICATION, dtype: int64"
      ]
     },
     "execution_count": 12,
     "metadata": {},
     "output_type": "execute_result"
    }
   ],
   "source": [
    "# Determine which values to replace if counts are less than 1250\n",
    "replace_class = list(classification_count[classification_count < 1500].index)\n",
    "\n",
    "# Replace in dataframe\n",
    "for cls in replace_class:\n",
    "    application_df.CLASSIFICATION = application_df.CLASSIFICATION.replace(cls,\"Other\")\n",
    "    \n",
    "# Check to make sure binning was successful\n",
    "application_df.CLASSIFICATION.value_counts()"
   ]
  },
  {
   "cell_type": "code",
   "execution_count": 13,
   "metadata": {},
   "outputs": [
    {
     "data": {
      "text/plain": [
       "PARENT BOOSTER USA INC                                                  1260\n",
       "TOPS CLUB INC                                                            765\n",
       "UNITED STATES BOWLING CONGRESS INC                                       700\n",
       "WASHINGTON STATE UNIVERSITY                                              492\n",
       "AMATEUR ATHLETIC UNION OF THE UNITED STATES INC                          408\n",
       "                                                                        ... \n",
       "ST LOUIS SLAM WOMENS FOOTBALL                                              1\n",
       "AIESEC ALUMNI IBEROAMERICA CORP                                            1\n",
       "WEALLBLEEDRED ORG INC                                                      1\n",
       "AMERICAN SOCIETY FOR STANDARDS IN MEDIUMSHIP & PSYCHICAL INVESTIGATI       1\n",
       "WATERHOUSE CHARITABLE TR                                                   1\n",
       "Name: NAME, Length: 19568, dtype: int64"
      ]
     },
     "execution_count": 13,
     "metadata": {},
     "output_type": "execute_result"
    }
   ],
   "source": [
    "# D3 - binning names!\n",
    "name_counts = application_df[\"NAME\"].value_counts()\n",
    "name_counts"
   ]
  },
  {
   "cell_type": "code",
   "execution_count": 14,
   "metadata": {},
   "outputs": [
    {
     "data": {
      "text/plain": [
       "<AxesSubplot:ylabel='Density'>"
      ]
     },
     "execution_count": 14,
     "metadata": {},
     "output_type": "execute_result"
    },
    {
     "data": {
      "image/png": "[encoded data removed]",
      "text/plain": [
       "<Figure size 432x288 with 1 Axes>"
      ]
     },
     "metadata": {
      "needs_background": "light"
     },
     "output_type": "display_data"
    }
   ],
   "source": [
    "# Visualize value counts for \"NAME\"\n",
    "name_counts.plot.density()"
   ]
  },
  {
   "cell_type": "code",
   "execution_count": 16,
   "metadata": {},
   "outputs": [
    {
     "data": {
      "text/plain": [
       "FLORIDA FAMILY CHILD CARE HOME ASSOCIATION INC                          5\n",
       "GERONTOLOGICAL ADVANCED PRACTICE NURSES ASSOCIATION                     5\n",
       "INTERNATIONL TRANSPLANT NURSES SOCIETY                                  5\n",
       "NATIONAL ORGANIZATION FOR WOMEN INC                                     5\n",
       "PTA HAWAII CONGRESS                                                     5\n",
       "                                                                       ..\n",
       "ST LOUIS SLAM WOMENS FOOTBALL                                           1\n",
       "AIESEC ALUMNI IBEROAMERICA CORP                                         1\n",
       "WEALLBLEEDRED ORG INC                                                   1\n",
       "AMERICAN SOCIETY FOR STANDARDS IN MEDIUMSHIP & PSYCHICAL INVESTIGATI    1\n",
       "WATERHOUSE CHARITABLE TR                                                1\n",
       "Name: NAME, Length: 19214, dtype: int64"
      ]
     },
     "execution_count": 16,
     "metadata": {},
     "output_type": "execute_result"
    }
   ],
   "source": [
    "# How many names appear less than 5 times in the dataset\n",
    "name_counts[name_counts <= 5]"
   ]
  },
  {
   "cell_type": "code",
   "execution_count": 17,
   "metadata": {},
   "outputs": [
    {
     "data": {
      "text/plain": [
       "Other                                           20043\n",
       "PARENT BOOSTER USA INC                           1260\n",
       "TOPS CLUB INC                                     765\n",
       "UNITED STATES BOWLING CONGRESS INC                700\n",
       "WASHINGTON STATE UNIVERSITY                       492\n",
       "                                                ...  \n",
       "HABITAT FOR HUMANITY INTERNATIONAL                  6\n",
       "DAMAGE PREVENTION COUNCIL OF TEXAS                  6\n",
       "FLEET RESERVE ASSOCIATION                           6\n",
       "HUGH OBRIAN YOUTH LEADERSHIP                        6\n",
       "INTERNATIONAL CONGRESS OF CHURCHES MINISTERS        6\n",
       "Name: NAME, Length: 355, dtype: int64"
      ]
     },
     "execution_count": 17,
     "metadata": {},
     "output_type": "execute_result"
    }
   ],
   "source": [
    "# Bin the names that appear 5 times or less in name_counts\n",
    "# get index name of names appearing less than 5 times\n",
    "replace_name = list(name_counts[name_counts <= 5].index)\n",
    "\n",
    "# replace them in the dataframe\n",
    "for name in replace_name:\n",
    "    application_df[\"NAME\"] = application_df[\"NAME\"].replace(name, \"Other\")\n",
    "\n",
    "# Check binning\n",
    "application_df[\"NAME\"].value_counts()"
   ]
  },
  {
   "cell_type": "code",
   "execution_count": 18,
   "metadata": {},
   "outputs": [
    {
     "data": {
      "text/plain": [
       "['NAME',\n",
       " 'APPLICATION_TYPE',\n",
       " 'AFFILIATION',\n",
       " 'CLASSIFICATION',\n",
       " 'USE_CASE',\n",
       " 'ORGANIZATION',\n",
       " 'INCOME_AMT']"
      ]
     },
     "execution_count": 18,
     "metadata": {},
     "output_type": "execute_result"
    }
   ],
   "source": [
    "# Generate our categorical variable lists\n",
    "application_cat = application_df.dtypes[application_df.dtypes == \"object\"].index.tolist()\n",
    "application_cat"
   ]
  },
  {
   "cell_type": "code",
   "execution_count": 19,
   "metadata": {},
   "outputs": [
    {
     "name": "stderr",
     "output_type": "stream",
     "text": [
      "C:\\Users\\halov\\anaconda3\\envs\\mlenv\\lib\\site-packages\\sklearn\\utils\\deprecation.py:87: FutureWarning: Function get_feature_names is deprecated; get_feature_names is deprecated in 1.0 and will be removed in 1.2. Please use get_feature_names_out instead.\n",
      "  warnings.warn(msg, category=FutureWarning)\n"
     ]
    },
    {
     "data": {
      "text/html": [
       "<div>\n",
       "<style scoped>\n",
       "    .dataframe tbody tr th:only-of-type {\n",
       "        vertical-align: middle;\n",
       "    }\n",
       "\n",
       "    .dataframe tbody tr th {\n",
       "        vertical-align: top;\n",
       "    }\n",
       "\n",
       "    .dataframe thead th {\n",
       "        text-align: right;\n",
       "    }\n",
       "</style>\n",
       "<table border=\"1\" class=\"dataframe\">\n",
       "  <thead>\n",
       "    <tr style=\"text-align: right;\">\n",
       "      <th></th>\n",
       "      <th>NAME_AACE INTERNATIONAL</th>\n",
       "      <th>NAME_ACE MENTOR PROGRAM OF AMERICA INC</th>\n",
       "      <th>NAME_AFRICAN-AMERICAN POSTAL LEAGUE UNITED FOR SUCCESS A-PLUS</th>\n",
       "      <th>NAME_AIR FORCE ASSOCIATION</th>\n",
       "      <th>NAME_ALABAMA FEDERATION OF WOMENS CLUBS</th>\n",
       "      <th>NAME_ALABAMA TREASURE FOREST ASSOCIATION</th>\n",
       "      <th>NAME_ALBANY STATE UNIVERSITY NATIONAL ALUMNI ASSOCIATION</th>\n",
       "      <th>NAME_ALPHA PHI OMEGA</th>\n",
       "      <th>NAME_ALPHA PHI SIGMA</th>\n",
       "      <th>NAME_ALPHA PHI SIGMA INC</th>\n",
       "      <th>...</th>\n",
       "      <th>ORGANIZATION_Trust</th>\n",
       "      <th>INCOME_AMT_0</th>\n",
       "      <th>INCOME_AMT_1-9999</th>\n",
       "      <th>INCOME_AMT_10000-24999</th>\n",
       "      <th>INCOME_AMT_100000-499999</th>\n",
       "      <th>INCOME_AMT_10M-50M</th>\n",
       "      <th>INCOME_AMT_1M-5M</th>\n",
       "      <th>INCOME_AMT_25000-99999</th>\n",
       "      <th>INCOME_AMT_50M+</th>\n",
       "      <th>INCOME_AMT_5M-10M</th>\n",
       "    </tr>\n",
       "  </thead>\n",
       "  <tbody>\n",
       "    <tr>\n",
       "      <th>0</th>\n",
       "      <td>0.0</td>\n",
       "      <td>0.0</td>\n",
       "      <td>0.0</td>\n",
       "      <td>0.0</td>\n",
       "      <td>0.0</td>\n",
       "      <td>0.0</td>\n",
       "      <td>0.0</td>\n",
       "      <td>0.0</td>\n",
       "      <td>0.0</td>\n",
       "      <td>0.0</td>\n",
       "      <td>...</td>\n",
       "      <td>0.0</td>\n",
       "      <td>1.0</td>\n",
       "      <td>0.0</td>\n",
       "      <td>0.0</td>\n",
       "      <td>0.0</td>\n",
       "      <td>0.0</td>\n",
       "      <td>0.0</td>\n",
       "      <td>0.0</td>\n",
       "      <td>0.0</td>\n",
       "      <td>0.0</td>\n",
       "    </tr>\n",
       "    <tr>\n",
       "      <th>1</th>\n",
       "      <td>0.0</td>\n",
       "      <td>0.0</td>\n",
       "      <td>0.0</td>\n",
       "      <td>0.0</td>\n",
       "      <td>0.0</td>\n",
       "      <td>0.0</td>\n",
       "      <td>0.0</td>\n",
       "      <td>0.0</td>\n",
       "      <td>0.0</td>\n",
       "      <td>0.0</td>\n",
       "      <td>...</td>\n",
       "      <td>0.0</td>\n",
       "      <td>0.0</td>\n",
       "      <td>1.0</td>\n",
       "      <td>0.0</td>\n",
       "      <td>0.0</td>\n",
       "      <td>0.0</td>\n",
       "      <td>0.0</td>\n",
       "      <td>0.0</td>\n",
       "      <td>0.0</td>\n",
       "      <td>0.0</td>\n",
       "    </tr>\n",
       "    <tr>\n",
       "      <th>2</th>\n",
       "      <td>0.0</td>\n",
       "      <td>0.0</td>\n",
       "      <td>0.0</td>\n",
       "      <td>0.0</td>\n",
       "      <td>0.0</td>\n",
       "      <td>0.0</td>\n",
       "      <td>0.0</td>\n",
       "      <td>0.0</td>\n",
       "      <td>0.0</td>\n",
       "      <td>0.0</td>\n",
       "      <td>...</td>\n",
       "      <td>0.0</td>\n",
       "      <td>1.0</td>\n",
       "      <td>0.0</td>\n",
       "      <td>0.0</td>\n",
       "      <td>0.0</td>\n",
       "      <td>0.0</td>\n",
       "      <td>0.0</td>\n",
       "      <td>0.0</td>\n",
       "      <td>0.0</td>\n",
       "      <td>0.0</td>\n",
       "    </tr>\n",
       "    <tr>\n",
       "      <th>3</th>\n",
       "      <td>0.0</td>\n",
       "      <td>0.0</td>\n",
       "      <td>0.0</td>\n",
       "      <td>0.0</td>\n",
       "      <td>0.0</td>\n",
       "      <td>0.0</td>\n",
       "      <td>0.0</td>\n",
       "      <td>0.0</td>\n",
       "      <td>0.0</td>\n",
       "      <td>0.0</td>\n",
       "      <td>...</td>\n",
       "      <td>1.0</td>\n",
       "      <td>0.0</td>\n",
       "      <td>0.0</td>\n",
       "      <td>1.0</td>\n",
       "      <td>0.0</td>\n",
       "      <td>0.0</td>\n",
       "      <td>0.0</td>\n",
       "      <td>0.0</td>\n",
       "      <td>0.0</td>\n",
       "      <td>0.0</td>\n",
       "    </tr>\n",
       "    <tr>\n",
       "      <th>4</th>\n",
       "      <td>0.0</td>\n",
       "      <td>0.0</td>\n",
       "      <td>0.0</td>\n",
       "      <td>0.0</td>\n",
       "      <td>0.0</td>\n",
       "      <td>0.0</td>\n",
       "      <td>0.0</td>\n",
       "      <td>0.0</td>\n",
       "      <td>0.0</td>\n",
       "      <td>0.0</td>\n",
       "      <td>...</td>\n",
       "      <td>1.0</td>\n",
       "      <td>0.0</td>\n",
       "      <td>0.0</td>\n",
       "      <td>0.0</td>\n",
       "      <td>1.0</td>\n",
       "      <td>0.0</td>\n",
       "      <td>0.0</td>\n",
       "      <td>0.0</td>\n",
       "      <td>0.0</td>\n",
       "      <td>0.0</td>\n",
       "    </tr>\n",
       "  </tbody>\n",
       "</table>\n",
       "<p>5 rows × 393 columns</p>\n",
       "</div>"
      ],
      "text/plain": [
       "   NAME_AACE INTERNATIONAL  NAME_ACE MENTOR PROGRAM OF AMERICA INC  \\\n",
       "0                      0.0                                     0.0   \n",
       "1                      0.0                                     0.0   \n",
       "2                      0.0                                     0.0   \n",
       "3                      0.0                                     0.0   \n",
       "4                      0.0                                     0.0   \n",
       "\n",
       "   NAME_AFRICAN-AMERICAN POSTAL LEAGUE UNITED FOR SUCCESS A-PLUS  \\\n",
       "0                                                0.0               \n",
       "1                                                0.0               \n",
       "2                                                0.0               \n",
       "3                                                0.0               \n",
       "4                                                0.0               \n",
       "\n",
       "   NAME_AIR FORCE ASSOCIATION  NAME_ALABAMA FEDERATION OF WOMENS CLUBS  \\\n",
       "0                         0.0                                      0.0   \n",
       "1                         0.0                                      0.0   \n",
       "2                         0.0                                      0.0   \n",
       "3                         0.0                                      0.0   \n",
       "4                         0.0                                      0.0   \n",
       "\n",
       "   NAME_ALABAMA TREASURE FOREST ASSOCIATION  \\\n",
       "0                                       0.0   \n",
       "1                                       0.0   \n",
       "2                                       0.0   \n",
       "3                                       0.0   \n",
       "4                                       0.0   \n",
       "\n",
       "   NAME_ALBANY STATE UNIVERSITY NATIONAL ALUMNI ASSOCIATION  \\\n",
       "0                                                0.0          \n",
       "1                                                0.0          \n",
       "2                                                0.0          \n",
       "3                                                0.0          \n",
       "4                                                0.0          \n",
       "\n",
       "   NAME_ALPHA PHI OMEGA  NAME_ALPHA PHI SIGMA  NAME_ALPHA PHI SIGMA INC  ...  \\\n",
       "0                   0.0                   0.0                       0.0  ...   \n",
       "1                   0.0                   0.0                       0.0  ...   \n",
       "2                   0.0                   0.0                       0.0  ...   \n",
       "3                   0.0                   0.0                       0.0  ...   \n",
       "4                   0.0                   0.0                       0.0  ...   \n",
       "\n",
       "   ORGANIZATION_Trust  INCOME_AMT_0  INCOME_AMT_1-9999  \\\n",
       "0                 0.0           1.0                0.0   \n",
       "1                 0.0           0.0                1.0   \n",
       "2                 0.0           1.0                0.0   \n",
       "3                 1.0           0.0                0.0   \n",
       "4                 1.0           0.0                0.0   \n",
       "\n",
       "   INCOME_AMT_10000-24999  INCOME_AMT_100000-499999  INCOME_AMT_10M-50M  \\\n",
       "0                     0.0                       0.0                 0.0   \n",
       "1                     0.0                       0.0                 0.0   \n",
       "2                     0.0                       0.0                 0.0   \n",
       "3                     1.0                       0.0                 0.0   \n",
       "4                     0.0                       1.0                 0.0   \n",
       "\n",
       "   INCOME_AMT_1M-5M  INCOME_AMT_25000-99999  INCOME_AMT_50M+  \\\n",
       "0               0.0                     0.0              0.0   \n",
       "1               0.0                     0.0              0.0   \n",
       "2               0.0                     0.0              0.0   \n",
       "3               0.0                     0.0              0.0   \n",
       "4               0.0                     0.0              0.0   \n",
       "\n",
       "   INCOME_AMT_5M-10M  \n",
       "0                0.0  \n",
       "1                0.0  \n",
       "2                0.0  \n",
       "3                0.0  \n",
       "4                0.0  \n",
       "\n",
       "[5 rows x 393 columns]"
      ]
     },
     "execution_count": 19,
     "metadata": {},
     "output_type": "execute_result"
    }
   ],
   "source": [
    "# Create a OneHotEncoder instance\n",
    "enc = OneHotEncoder(sparse=False)\n",
    "\n",
    "# Fit and transform the OneHotEncoder using the categorical variable list\n",
    "encode_df = pd.DataFrame(enc.fit_transform(application_df[application_cat]))\n",
    "\n",
    "# Add the encoded variable names to the dataframe\n",
    "encode_df.columns = enc.get_feature_names(application_cat)\n",
    "encode_df.head()"
   ]
  },
  {
   "cell_type": "code",
   "execution_count": 20,
   "metadata": {},
   "outputs": [
    {
     "name": "stderr",
     "output_type": "stream",
     "text": [
      "C:\\Users\\halov\\anaconda3\\envs\\mlenv\\lib\\site-packages\\ipykernel_launcher.py:3: FutureWarning: In a future version of pandas all arguments of DataFrame.drop except for the argument 'labels' will be keyword-only\n",
      "  This is separate from the ipykernel package so we can avoid doing imports until\n"
     ]
    },
    {
     "data": {
      "text/html": [
       "<div>\n",
       "<style scoped>\n",
       "    .dataframe tbody tr th:only-of-type {\n",
       "        vertical-align: middle;\n",
       "    }\n",
       "\n",
       "    .dataframe tbody tr th {\n",
       "        vertical-align: top;\n",
       "    }\n",
       "\n",
       "    .dataframe thead th {\n",
       "        text-align: right;\n",
       "    }\n",
       "</style>\n",
       "<table border=\"1\" class=\"dataframe\">\n",
       "  <thead>\n",
       "    <tr style=\"text-align: right;\">\n",
       "      <th></th>\n",
       "      <th>ASK_AMT</th>\n",
       "      <th>IS_SUCCESSFUL</th>\n",
       "      <th>NAME_AACE INTERNATIONAL</th>\n",
       "      <th>NAME_ACE MENTOR PROGRAM OF AMERICA INC</th>\n",
       "      <th>NAME_AFRICAN-AMERICAN POSTAL LEAGUE UNITED FOR SUCCESS A-PLUS</th>\n",
       "      <th>NAME_AIR FORCE ASSOCIATION</th>\n",
       "      <th>NAME_ALABAMA FEDERATION OF WOMENS CLUBS</th>\n",
       "      <th>NAME_ALABAMA TREASURE FOREST ASSOCIATION</th>\n",
       "      <th>NAME_ALBANY STATE UNIVERSITY NATIONAL ALUMNI ASSOCIATION</th>\n",
       "      <th>NAME_ALPHA PHI OMEGA</th>\n",
       "      <th>...</th>\n",
       "      <th>ORGANIZATION_Trust</th>\n",
       "      <th>INCOME_AMT_0</th>\n",
       "      <th>INCOME_AMT_1-9999</th>\n",
       "      <th>INCOME_AMT_10000-24999</th>\n",
       "      <th>INCOME_AMT_100000-499999</th>\n",
       "      <th>INCOME_AMT_10M-50M</th>\n",
       "      <th>INCOME_AMT_1M-5M</th>\n",
       "      <th>INCOME_AMT_25000-99999</th>\n",
       "      <th>INCOME_AMT_50M+</th>\n",
       "      <th>INCOME_AMT_5M-10M</th>\n",
       "    </tr>\n",
       "  </thead>\n",
       "  <tbody>\n",
       "    <tr>\n",
       "      <th>0</th>\n",
       "      <td>5000</td>\n",
       "      <td>1</td>\n",
       "      <td>0.0</td>\n",
       "      <td>0.0</td>\n",
       "      <td>0.0</td>\n",
       "      <td>0.0</td>\n",
       "      <td>0.0</td>\n",
       "      <td>0.0</td>\n",
       "      <td>0.0</td>\n",
       "      <td>0.0</td>\n",
       "      <td>...</td>\n",
       "      <td>0.0</td>\n",
       "      <td>1.0</td>\n",
       "      <td>0.0</td>\n",
       "      <td>0.0</td>\n",
       "      <td>0.0</td>\n",
       "      <td>0.0</td>\n",
       "      <td>0.0</td>\n",
       "      <td>0.0</td>\n",
       "      <td>0.0</td>\n",
       "      <td>0.0</td>\n",
       "    </tr>\n",
       "    <tr>\n",
       "      <th>1</th>\n",
       "      <td>108590</td>\n",
       "      <td>1</td>\n",
       "      <td>0.0</td>\n",
       "      <td>0.0</td>\n",
       "      <td>0.0</td>\n",
       "      <td>0.0</td>\n",
       "      <td>0.0</td>\n",
       "      <td>0.0</td>\n",
       "      <td>0.0</td>\n",
       "      <td>0.0</td>\n",
       "      <td>...</td>\n",
       "      <td>0.0</td>\n",
       "      <td>0.0</td>\n",
       "      <td>1.0</td>\n",
       "      <td>0.0</td>\n",
       "      <td>0.0</td>\n",
       "      <td>0.0</td>\n",
       "      <td>0.0</td>\n",
       "      <td>0.0</td>\n",
       "      <td>0.0</td>\n",
       "      <td>0.0</td>\n",
       "    </tr>\n",
       "    <tr>\n",
       "      <th>2</th>\n",
       "      <td>5000</td>\n",
       "      <td>0</td>\n",
       "      <td>0.0</td>\n",
       "      <td>0.0</td>\n",
       "      <td>0.0</td>\n",
       "      <td>0.0</td>\n",
       "      <td>0.0</td>\n",
       "      <td>0.0</td>\n",
       "      <td>0.0</td>\n",
       "      <td>0.0</td>\n",
       "      <td>...</td>\n",
       "      <td>0.0</td>\n",
       "      <td>1.0</td>\n",
       "      <td>0.0</td>\n",
       "      <td>0.0</td>\n",
       "      <td>0.0</td>\n",
       "      <td>0.0</td>\n",
       "      <td>0.0</td>\n",
       "      <td>0.0</td>\n",
       "      <td>0.0</td>\n",
       "      <td>0.0</td>\n",
       "    </tr>\n",
       "    <tr>\n",
       "      <th>3</th>\n",
       "      <td>6692</td>\n",
       "      <td>1</td>\n",
       "      <td>0.0</td>\n",
       "      <td>0.0</td>\n",
       "      <td>0.0</td>\n",
       "      <td>0.0</td>\n",
       "      <td>0.0</td>\n",
       "      <td>0.0</td>\n",
       "      <td>0.0</td>\n",
       "      <td>0.0</td>\n",
       "      <td>...</td>\n",
       "      <td>1.0</td>\n",
       "      <td>0.0</td>\n",
       "      <td>0.0</td>\n",
       "      <td>1.0</td>\n",
       "      <td>0.0</td>\n",
       "      <td>0.0</td>\n",
       "      <td>0.0</td>\n",
       "      <td>0.0</td>\n",
       "      <td>0.0</td>\n",
       "      <td>0.0</td>\n",
       "    </tr>\n",
       "    <tr>\n",
       "      <th>4</th>\n",
       "      <td>142590</td>\n",
       "      <td>1</td>\n",
       "      <td>0.0</td>\n",
       "      <td>0.0</td>\n",
       "      <td>0.0</td>\n",
       "      <td>0.0</td>\n",
       "      <td>0.0</td>\n",
       "      <td>0.0</td>\n",
       "      <td>0.0</td>\n",
       "      <td>0.0</td>\n",
       "      <td>...</td>\n",
       "      <td>1.0</td>\n",
       "      <td>0.0</td>\n",
       "      <td>0.0</td>\n",
       "      <td>0.0</td>\n",
       "      <td>1.0</td>\n",
       "      <td>0.0</td>\n",
       "      <td>0.0</td>\n",
       "      <td>0.0</td>\n",
       "      <td>0.0</td>\n",
       "      <td>0.0</td>\n",
       "    </tr>\n",
       "  </tbody>\n",
       "</table>\n",
       "<p>5 rows × 395 columns</p>\n",
       "</div>"
      ],
      "text/plain": [
       "   ASK_AMT  IS_SUCCESSFUL  NAME_AACE INTERNATIONAL  \\\n",
       "0     5000              1                      0.0   \n",
       "1   108590              1                      0.0   \n",
       "2     5000              0                      0.0   \n",
       "3     6692              1                      0.0   \n",
       "4   142590              1                      0.0   \n",
       "\n",
       "   NAME_ACE MENTOR PROGRAM OF AMERICA INC  \\\n",
       "0                                     0.0   \n",
       "1                                     0.0   \n",
       "2                                     0.0   \n",
       "3                                     0.0   \n",
       "4                                     0.0   \n",
       "\n",
       "   NAME_AFRICAN-AMERICAN POSTAL LEAGUE UNITED FOR SUCCESS A-PLUS  \\\n",
       "0                                                0.0               \n",
       "1                                                0.0               \n",
       "2                                                0.0               \n",
       "3                                                0.0               \n",
       "4                                                0.0               \n",
       "\n",
       "   NAME_AIR FORCE ASSOCIATION  NAME_ALABAMA FEDERATION OF WOMENS CLUBS  \\\n",
       "0                         0.0                                      0.0   \n",
       "1                         0.0                                      0.0   \n",
       "2                         0.0                                      0.0   \n",
       "3                         0.0                                      0.0   \n",
       "4                         0.0                                      0.0   \n",
       "\n",
       "   NAME_ALABAMA TREASURE FOREST ASSOCIATION  \\\n",
       "0                                       0.0   \n",
       "1                                       0.0   \n",
       "2                                       0.0   \n",
       "3                                       0.0   \n",
       "4                                       0.0   \n",
       "\n",
       "   NAME_ALBANY STATE UNIVERSITY NATIONAL ALUMNI ASSOCIATION  \\\n",
       "0                                                0.0          \n",
       "1                                                0.0          \n",
       "2                                                0.0          \n",
       "3                                                0.0          \n",
       "4                                                0.0          \n",
       "\n",
       "   NAME_ALPHA PHI OMEGA  ...  ORGANIZATION_Trust  INCOME_AMT_0  \\\n",
       "0                   0.0  ...                 0.0           1.0   \n",
       "1                   0.0  ...                 0.0           0.0   \n",
       "2                   0.0  ...                 0.0           1.0   \n",
       "3                   0.0  ...                 1.0           0.0   \n",
       "4                   0.0  ...                 1.0           0.0   \n",
       "\n",
       "   INCOME_AMT_1-9999  INCOME_AMT_10000-24999  INCOME_AMT_100000-499999  \\\n",
       "0                0.0                     0.0                       0.0   \n",
       "1                1.0                     0.0                       0.0   \n",
       "2                0.0                     0.0                       0.0   \n",
       "3                0.0                     1.0                       0.0   \n",
       "4                0.0                     0.0                       1.0   \n",
       "\n",
       "   INCOME_AMT_10M-50M  INCOME_AMT_1M-5M  INCOME_AMT_25000-99999  \\\n",
       "0                 0.0               0.0                     0.0   \n",
       "1                 0.0               0.0                     0.0   \n",
       "2                 0.0               0.0                     0.0   \n",
       "3                 0.0               0.0                     0.0   \n",
       "4                 0.0               0.0                     0.0   \n",
       "\n",
       "   INCOME_AMT_50M+  INCOME_AMT_5M-10M  \n",
       "0              0.0                0.0  \n",
       "1              0.0                0.0  \n",
       "2              0.0                0.0  \n",
       "3              0.0                0.0  \n",
       "4              0.0                0.0  \n",
       "\n",
       "[5 rows x 395 columns]"
      ]
     },
     "execution_count": 20,
     "metadata": {},
     "output_type": "execute_result"
    }
   ],
   "source": [
    "# Merge one-hot encoded features and drop the originals\n",
    "application_df = application_df.merge(encode_df, left_index=True, right_index=True)\n",
    "application_df = application_df.drop(application_cat, 1)\n",
    "application_df.head()"
   ]
  },
  {
   "cell_type": "code",
   "execution_count": 21,
   "metadata": {},
   "outputs": [],
   "source": [
    "# Split our preprocessed data into our features and target arrays\n",
    "y = application_df[\"IS_SUCCESSFUL\"].values\n",
    "X = application_df.drop(columns=\"IS_SUCCESSFUL\").values\n",
    "\n",
    "# Split the preprocessed data into a training and testing dataset\n",
    "X_train, X_test, y_train, y_test = train_test_split(X, y, random_state=42, stratify=y)"
   ]
  },
  {
   "cell_type": "code",
   "execution_count": 22,
   "metadata": {},
   "outputs": [],
   "source": [
    "# Create a StandardScaler instances\n",
    "scaler = StandardScaler()\n",
    "\n",
    "# Fit the StandardScaler\n",
    "X_scaler = scaler.fit(X_train)\n",
    "\n",
    "# Scale the data\n",
    "X_train_scaled = X_scaler.transform(X_train)\n",
    "X_test_scaled = X_scaler.transform(X_test)"
   ]
  },
  {
   "cell_type": "markdown",
   "metadata": {},
   "source": [
    "### Deliverable 2: Compile, Train and Evaluate the Model"
   ]
  },
  {
   "cell_type": "code",
   "execution_count": 23,
   "metadata": {},
   "outputs": [
    {
     "name": "stdout",
     "output_type": "stream",
     "text": [
      "Model: \"sequential\"\n",
      "_________________________________________________________________\n",
      " Layer (type)                Output Shape              Param #   \n",
      "=================================================================\n",
      " dense (Dense)               (None, 886)               349970    \n",
      "                                                                 \n",
      " dense_1 (Dense)             (None, 591)               524217    \n",
      "                                                                 \n",
      " dense_2 (Dense)             (None, 394)               233248    \n",
      "                                                                 \n",
      " dense_3 (Dense)             (None, 1)                 395       \n",
      "                                                                 \n",
      "=================================================================\n",
      "Total params: 1,107,830\n",
      "Trainable params: 1,107,830\n",
      "Non-trainable params: 0\n",
      "_________________________________________________________________\n"
     ]
    }
   ],
   "source": [
    "# Define the model - deep neural net, i.e., the number of input features and hidden nodes for each layer.\n",
    "num_input_features = len(X_train_scaled[0])\n",
    "hidden_nodes_layer1 = round(num_input_features * 2.25)\n",
    "hidden_nodes_layer2 = round(num_input_features * 1.5)\n",
    "hidden_nodes_layer3 = num_input_features\n",
    "\n",
    "nn = tf.keras.models.Sequential()\n",
    "\n",
    "# First hidden layer\n",
    "nn.add(tf.keras.layers.Dense(units=hidden_nodes_layer1, input_dim=num_input_features,\n",
    "                            activation=\"sigmoid\"))\n",
    "\n",
    "# Second hidden layer\n",
    "nn.add(tf.keras.layers.Dense(units=hidden_nodes_layer2, activation=\"sigmoid\"))\n",
    "\n",
    "# Third hidden layer\n",
    "nn.add(tf.keras.layers.Dense(units=hidden_nodes_layer3, activation=\"sigmoid\"))\n",
    "\n",
    "# Output layer\n",
    "nn.add(tf.keras.layers.Dense(units=1, activation=\"sigmoid\"))\n",
    "\n",
    "# Check the structure of the model\n",
    "nn.summary()"
   ]
  },
  {
   "cell_type": "code",
   "execution_count": 24,
   "metadata": {},
   "outputs": [],
   "source": [
    "# Compile the model\n",
    "nn.compile(loss=\"binary_crossentropy\", optimizer=\"adam\", metrics=[\"accuracy\"])"
   ]
  },
  {
   "cell_type": "code",
   "execution_count": 25,
   "metadata": {},
   "outputs": [
    {
     "name": "stdout",
     "output_type": "stream",
     "text": [
      "WARNING:tensorflow:`period` argument is deprecated. Please use `save_freq` to specify the frequency in number of batches seen.\n"
     ]
    }
   ],
   "source": [
    "# Create callback that saves the model every 5th epoch\n",
    "os.makedirs(\"checkpoints/\", exist_ok=True)\n",
    "checkpoint_path = \"checkpoints/opt_weights.{epoch:02d}.hdf5\"\n",
    "\n",
    "cp_callback = ModelCheckpoint(\n",
    "    filepath=checkpoint_path,\n",
    "    verbose=1,\n",
    "    save_weights_only=True,\n",
    "    save_freq='epoch',\n",
    "    period=5)"
   ]
  },
  {
   "cell_type": "code",
   "execution_count": 26,
   "metadata": {},
   "outputs": [
    {
     "name": "stdout",
     "output_type": "stream",
     "text": [
      "Epoch 1/150\n",
      "804/804 [==============================] - 4s 4ms/step - loss: 0.4792 - accuracy: 0.7677\n",
      "Epoch 2/150\n",
      "804/804 [==============================] - 3s 4ms/step - loss: 0.4364 - accuracy: 0.7920\n",
      "Epoch 3/150\n",
      "804/804 [==============================] - 3s 4ms/step - loss: 0.4315 - accuracy: 0.7922\n",
      "Epoch 4/150\n",
      "804/804 [==============================] - 3s 4ms/step - loss: 0.4297 - accuracy: 0.7942\n",
      "Epoch 5/150\n",
      "794/804 [============================>.] - ETA: 0s - loss: 0.4265 - accuracy: 0.7955\n",
      "Epoch 5: saving model to checkpoints\\opt_weights.05.hdf5\n",
      "804/804 [==============================] - 3s 4ms/step - loss: 0.4274 - accuracy: 0.7947\n",
      "Epoch 6/150\n",
      "804/804 [==============================] - 4s 4ms/step - loss: 0.4280 - accuracy: 0.7937\n",
      "Epoch 7/150\n",
      "804/804 [==============================] - 3s 4ms/step - loss: 0.4259 - accuracy: 0.7963\n",
      "Epoch 8/150\n",
      "804/804 [==============================] - 3s 4ms/step - loss: 0.4262 - accuracy: 0.7956\n",
      "Epoch 9/150\n",
      "804/804 [==============================] - 4s 4ms/step - loss: 0.4261 - accuracy: 0.7954\n",
      "Epoch 10/150\n",
      "798/804 [============================>.] - ETA: 0s - loss: 0.4231 - accuracy: 0.7967\n",
      "Epoch 10: saving model to checkpoints\\opt_weights.10.hdf5\n",
      "804/804 [==============================] - 4s 4ms/step - loss: 0.4230 - accuracy: 0.7966\n",
      "Epoch 11/150\n",
      "804/804 [==============================] - 3s 4ms/step - loss: 0.4231 - accuracy: 0.7964\n",
      "Epoch 12/150\n",
      "804/804 [==============================] - 3s 4ms/step - loss: 0.4233 - accuracy: 0.7946\n",
      "Epoch 13/150\n",
      "804/804 [==============================] - 3s 4ms/step - loss: 0.4221 - accuracy: 0.7977\n",
      "Epoch 14/150\n",
      "804/804 [==============================] - 3s 4ms/step - loss: 0.4214 - accuracy: 0.7976\n",
      "Epoch 15/150\n",
      "804/804 [==============================] - ETA: 0s - loss: 0.4215 - accuracy: 0.7972\n",
      "Epoch 15: saving model to checkpoints\\opt_weights.15.hdf5\n",
      "804/804 [==============================] - 3s 4ms/step - loss: 0.4215 - accuracy: 0.7972\n",
      "Epoch 16/150\n",
      "804/804 [==============================] - 3s 4ms/step - loss: 0.4213 - accuracy: 0.7972\n",
      "Epoch 17/150\n",
      "804/804 [==============================] - 3s 4ms/step - loss: 0.4200 - accuracy: 0.7987\n",
      "Epoch 18/150\n",
      "804/804 [==============================] - 3s 4ms/step - loss: 0.4197 - accuracy: 0.7985\n",
      "Epoch 19/150\n",
      "804/804 [==============================] - 3s 4ms/step - loss: 0.4196 - accuracy: 0.7983\n",
      "Epoch 20/150\n",
      "804/804 [==============================] - ETA: 0s - loss: 0.4196 - accuracy: 0.7980\n",
      "Epoch 20: saving model to checkpoints\\opt_weights.20.hdf5\n",
      "804/804 [==============================] - 3s 4ms/step - loss: 0.4196 - accuracy: 0.7980\n",
      "Epoch 21/150\n",
      "804/804 [==============================] - 3s 4ms/step - loss: 0.4188 - accuracy: 0.7995\n",
      "Epoch 22/150\n",
      "804/804 [==============================] - 3s 4ms/step - loss: 0.4184 - accuracy: 0.7978\n",
      "Epoch 23/150\n",
      "804/804 [==============================] - 3s 4ms/step - loss: 0.4183 - accuracy: 0.7988\n",
      "Epoch 24/150\n",
      "804/804 [==============================] - 3s 4ms/step - loss: 0.4181 - accuracy: 0.8003\n",
      "Epoch 25/150\n",
      "795/804 [============================>.] - ETA: 0s - loss: 0.4183 - accuracy: 0.7964\n",
      "Epoch 25: saving model to checkpoints\\opt_weights.25.hdf5\n",
      "804/804 [==============================] - 3s 4ms/step - loss: 0.4182 - accuracy: 0.7965\n",
      "Epoch 26/150\n",
      "804/804 [==============================] - 3s 4ms/step - loss: 0.4176 - accuracy: 0.7983\n",
      "Epoch 27/150\n",
      "804/804 [==============================] - 3s 4ms/step - loss: 0.4171 - accuracy: 0.7993\n",
      "Epoch 28/150\n",
      "804/804 [==============================] - 3s 4ms/step - loss: 0.4167 - accuracy: 0.8001\n",
      "Epoch 29/150\n",
      "804/804 [==============================] - 3s 4ms/step - loss: 0.4167 - accuracy: 0.7997\n",
      "Epoch 30/150\n",
      "795/804 [============================>.] - ETA: 0s - loss: 0.4163 - accuracy: 0.8000\n",
      "Epoch 30: saving model to checkpoints\\opt_weights.30.hdf5\n",
      "804/804 [==============================] - 3s 4ms/step - loss: 0.4160 - accuracy: 0.8001\n",
      "Epoch 31/150\n",
      "804/804 [==============================] - 3s 4ms/step - loss: 0.4157 - accuracy: 0.8009\n",
      "Epoch 32/150\n",
      "804/804 [==============================] - 3s 4ms/step - loss: 0.4150 - accuracy: 0.7996\n",
      "Epoch 33/150\n",
      "804/804 [==============================] - 3s 4ms/step - loss: 0.4147 - accuracy: 0.8010\n",
      "Epoch 34/150\n",
      "804/804 [==============================] - 3s 4ms/step - loss: 0.4150 - accuracy: 0.8014\n",
      "Epoch 35/150\n",
      "794/804 [============================>.] - ETA: 0s - loss: 0.4139 - accuracy: 0.8009\n",
      "Epoch 35: saving model to checkpoints\\opt_weights.35.hdf5\n",
      "804/804 [==============================] - 3s 4ms/step - loss: 0.4139 - accuracy: 0.8008\n",
      "Epoch 36/150\n",
      "804/804 [==============================] - 4s 4ms/step - loss: 0.4140 - accuracy: 0.8013\n",
      "Epoch 37/150\n",
      "804/804 [==============================] - 4s 4ms/step - loss: 0.4135 - accuracy: 0.8020\n",
      "Epoch 38/150\n",
      "804/804 [==============================] - 4s 4ms/step - loss: 0.4128 - accuracy: 0.8013\n",
      "Epoch 39/150\n",
      "804/804 [==============================] - 4s 4ms/step - loss: 0.4130 - accuracy: 0.8012\n",
      "Epoch 40/150\n",
      "797/804 [============================>.] - ETA: 0s - loss: 0.4127 - accuracy: 0.8018\n",
      "Epoch 40: saving model to checkpoints\\opt_weights.40.hdf5\n",
      "804/804 [==============================] - 4s 4ms/step - loss: 0.4128 - accuracy: 0.8016\n",
      "Epoch 41/150\n",
      "804/804 [==============================] - 4s 4ms/step - loss: 0.4126 - accuracy: 0.8017\n",
      "Epoch 42/150\n",
      "804/804 [==============================] - 3s 4ms/step - loss: 0.4125 - accuracy: 0.8021\n",
      "Epoch 43/150\n",
      "804/804 [==============================] - 3s 4ms/step - loss: 0.4117 - accuracy: 0.8025\n",
      "Epoch 44/150\n",
      "804/804 [==============================] - 4s 4ms/step - loss: 0.4125 - accuracy: 0.8021\n",
      "Epoch 45/150\n",
      "803/804 [============================>.] - ETA: 0s - loss: 0.4115 - accuracy: 0.8022\n",
      "Epoch 45: saving model to checkpoints\\opt_weights.45.hdf5\n",
      "804/804 [==============================] - 3s 4ms/step - loss: 0.4113 - accuracy: 0.8023\n",
      "Epoch 46/150\n",
      "804/804 [==============================] - 4s 4ms/step - loss: 0.4112 - accuracy: 0.8021\n",
      "Epoch 47/150\n",
      "804/804 [==============================] - 4s 4ms/step - loss: 0.4100 - accuracy: 0.8037\n",
      "Epoch 48/150\n",
      "804/804 [==============================] - 3s 4ms/step - loss: 0.4105 - accuracy: 0.8029\n",
      "Epoch 49/150\n",
      "804/804 [==============================] - 3s 4ms/step - loss: 0.4096 - accuracy: 0.8039\n",
      "Epoch 50/150\n",
      "804/804 [==============================] - ETA: 0s - loss: 0.4093 - accuracy: 0.8040\n",
      "Epoch 50: saving model to checkpoints\\opt_weights.50.hdf5\n",
      "804/804 [==============================] - 4s 5ms/step - loss: 0.4093 - accuracy: 0.8040\n",
      "Epoch 51/150\n",
      "804/804 [==============================] - 4s 4ms/step - loss: 0.4095 - accuracy: 0.8037\n",
      "Epoch 52/150\n",
      "804/804 [==============================] - 3s 4ms/step - loss: 0.4089 - accuracy: 0.8030\n",
      "Epoch 53/150\n",
      "804/804 [==============================] - 3s 4ms/step - loss: 0.4088 - accuracy: 0.8048\n",
      "Epoch 54/150\n",
      "804/804 [==============================] - 4s 4ms/step - loss: 0.4087 - accuracy: 0.8037\n",
      "Epoch 55/150\n",
      "794/804 [============================>.] - ETA: 0s - loss: 0.4085 - accuracy: 0.8034\n",
      "Epoch 55: saving model to checkpoints\\opt_weights.55.hdf5\n",
      "804/804 [==============================] - 3s 4ms/step - loss: 0.4084 - accuracy: 0.8040\n",
      "Epoch 56/150\n",
      "804/804 [==============================] - 4s 4ms/step - loss: 0.4087 - accuracy: 0.8042\n",
      "Epoch 57/150\n",
      "804/804 [==============================] - 3s 4ms/step - loss: 0.4082 - accuracy: 0.8033\n",
      "Epoch 58/150\n",
      "804/804 [==============================] - 4s 4ms/step - loss: 0.4072 - accuracy: 0.8053\n",
      "Epoch 59/150\n",
      "804/804 [==============================] - 4s 4ms/step - loss: 0.4079 - accuracy: 0.8049\n",
      "Epoch 60/150\n",
      "799/804 [============================>.] - ETA: 0s - loss: 0.4067 - accuracy: 0.8064\n",
      "Epoch 60: saving model to checkpoints\\opt_weights.60.hdf5\n",
      "804/804 [==============================] - 3s 4ms/step - loss: 0.4070 - accuracy: 0.8062\n",
      "Epoch 61/150\n",
      "804/804 [==============================] - 4s 4ms/step - loss: 0.4076 - accuracy: 0.8041\n",
      "Epoch 62/150\n",
      "804/804 [==============================] - 3s 4ms/step - loss: 0.4069 - accuracy: 0.8042\n",
      "Epoch 63/150\n",
      "804/804 [==============================] - 3s 4ms/step - loss: 0.4073 - accuracy: 0.8045\n",
      "Epoch 64/150\n",
      "804/804 [==============================] - 3s 4ms/step - loss: 0.4070 - accuracy: 0.8047\n",
      "Epoch 65/150\n",
      "802/804 [============================>.] - ETA: 0s - loss: 0.4075 - accuracy: 0.8038\n",
      "Epoch 65: saving model to checkpoints\\opt_weights.65.hdf5\n",
      "804/804 [==============================] - 3s 4ms/step - loss: 0.4075 - accuracy: 0.8040\n",
      "Epoch 66/150\n",
      "804/804 [==============================] - 3s 4ms/step - loss: 0.4061 - accuracy: 0.8058\n",
      "Epoch 67/150\n",
      "804/804 [==============================] - 3s 4ms/step - loss: 0.4057 - accuracy: 0.8053\n",
      "Epoch 68/150\n",
      "804/804 [==============================] - 3s 4ms/step - loss: 0.4056 - accuracy: 0.8045\n",
      "Epoch 69/150\n",
      "804/804 [==============================] - 3s 4ms/step - loss: 0.4062 - accuracy: 0.8047\n",
      "Epoch 70/150\n",
      "798/804 [============================>.] - ETA: 0s - loss: 0.4059 - accuracy: 0.8056\n",
      "Epoch 70: saving model to checkpoints\\opt_weights.70.hdf5\n",
      "804/804 [==============================] - 3s 4ms/step - loss: 0.4057 - accuracy: 0.8058\n",
      "Epoch 71/150\n",
      "804/804 [==============================] - 3s 4ms/step - loss: 0.4052 - accuracy: 0.8053\n",
      "Epoch 72/150\n",
      "804/804 [==============================] - 3s 4ms/step - loss: 0.4047 - accuracy: 0.8064\n",
      "Epoch 73/150\n",
      "804/804 [==============================] - 3s 4ms/step - loss: 0.4055 - accuracy: 0.8054\n",
      "Epoch 74/150\n",
      "804/804 [==============================] - 3s 4ms/step - loss: 0.4051 - accuracy: 0.8068\n",
      "Epoch 75/150\n",
      "804/804 [==============================] - ETA: 0s - loss: 0.4052 - accuracy: 0.8058\n",
      "Epoch 75: saving model to checkpoints\\opt_weights.75.hdf5\n",
      "804/804 [==============================] - 3s 4ms/step - loss: 0.4052 - accuracy: 0.8058\n",
      "Epoch 76/150\n",
      "804/804 [==============================] - 3s 4ms/step - loss: 0.4046 - accuracy: 0.8052\n",
      "Epoch 77/150\n",
      "804/804 [==============================] - 3s 4ms/step - loss: 0.4049 - accuracy: 0.8054\n",
      "Epoch 78/150\n",
      "804/804 [==============================] - 3s 4ms/step - loss: 0.4041 - accuracy: 0.8063\n",
      "Epoch 79/150\n",
      "804/804 [==============================] - 3s 4ms/step - loss: 0.4042 - accuracy: 0.8066\n",
      "Epoch 80/150\n",
      "793/804 [============================>.] - ETA: 0s - loss: 0.4043 - accuracy: 0.8052\n",
      "Epoch 80: saving model to checkpoints\\opt_weights.80.hdf5\n",
      "804/804 [==============================] - 3s 4ms/step - loss: 0.4036 - accuracy: 0.8059\n",
      "Epoch 81/150\n",
      "804/804 [==============================] - 3s 4ms/step - loss: 0.4037 - accuracy: 0.8059\n",
      "Epoch 82/150\n",
      "804/804 [==============================] - 3s 4ms/step - loss: 0.4035 - accuracy: 0.8073\n",
      "Epoch 83/150\n",
      "804/804 [==============================] - 3s 4ms/step - loss: 0.4023 - accuracy: 0.8068\n",
      "Epoch 84/150\n",
      "804/804 [==============================] - 3s 4ms/step - loss: 0.4029 - accuracy: 0.8079\n",
      "Epoch 85/150\n",
      "800/804 [============================>.] - ETA: 0s - loss: 0.4037 - accuracy: 0.8046\n",
      "Epoch 85: saving model to checkpoints\\opt_weights.85.hdf5\n",
      "804/804 [==============================] - 4s 4ms/step - loss: 0.4035 - accuracy: 0.8049\n",
      "Epoch 86/150\n",
      "804/804 [==============================] - 4s 4ms/step - loss: 0.4030 - accuracy: 0.8061\n",
      "Epoch 87/150\n",
      "804/804 [==============================] - 3s 4ms/step - loss: 0.4034 - accuracy: 0.8059\n",
      "Epoch 88/150\n",
      "804/804 [==============================] - 3s 4ms/step - loss: 0.4027 - accuracy: 0.8075\n",
      "Epoch 89/150\n",
      "804/804 [==============================] - 3s 4ms/step - loss: 0.4026 - accuracy: 0.8071\n",
      "Epoch 90/150\n",
      "793/804 [============================>.] - ETA: 0s - loss: 0.4027 - accuracy: 0.8062\n",
      "Epoch 90: saving model to checkpoints\\opt_weights.90.hdf5\n",
      "804/804 [==============================] - 3s 4ms/step - loss: 0.4030 - accuracy: 0.8063\n",
      "Epoch 91/150\n",
      "804/804 [==============================] - 3s 4ms/step - loss: 0.4024 - accuracy: 0.8074\n",
      "Epoch 92/150\n",
      "804/804 [==============================] - 3s 4ms/step - loss: 0.4021 - accuracy: 0.8076\n",
      "Epoch 93/150\n",
      "804/804 [==============================] - 3s 4ms/step - loss: 0.4024 - accuracy: 0.8063\n",
      "Epoch 94/150\n",
      "804/804 [==============================] - 3s 4ms/step - loss: 0.4028 - accuracy: 0.8060\n",
      "Epoch 95/150\n",
      "795/804 [============================>.] - ETA: 0s - loss: 0.4023 - accuracy: 0.8073\n",
      "Epoch 95: saving model to checkpoints\\opt_weights.95.hdf5\n",
      "804/804 [==============================] - 3s 4ms/step - loss: 0.4022 - accuracy: 0.8071\n",
      "Epoch 96/150\n",
      "804/804 [==============================] - 3s 4ms/step - loss: 0.4021 - accuracy: 0.8069\n",
      "Epoch 97/150\n",
      "804/804 [==============================] - 3s 4ms/step - loss: 0.4016 - accuracy: 0.8057\n",
      "Epoch 98/150\n",
      "804/804 [==============================] - 3s 4ms/step - loss: 0.4014 - accuracy: 0.8071\n",
      "Epoch 99/150\n",
      "804/804 [==============================] - 3s 4ms/step - loss: 0.4020 - accuracy: 0.8067\n",
      "Epoch 100/150\n",
      "794/804 [============================>.] - ETA: 0s - loss: 0.4023 - accuracy: 0.8051\n",
      "Epoch 100: saving model to checkpoints\\opt_weights.100.hdf5\n",
      "804/804 [==============================] - 3s 4ms/step - loss: 0.4019 - accuracy: 0.8056\n",
      "Epoch 101/150\n",
      "804/804 [==============================] - 3s 4ms/step - loss: 0.4018 - accuracy: 0.8068\n",
      "Epoch 102/150\n",
      "804/804 [==============================] - 3s 4ms/step - loss: 0.4012 - accuracy: 0.8072\n",
      "Epoch 103/150\n",
      "804/804 [==============================] - 3s 4ms/step - loss: 0.4018 - accuracy: 0.8077\n",
      "Epoch 104/150\n",
      "804/804 [==============================] - 3s 4ms/step - loss: 0.4009 - accuracy: 0.8074\n",
      "Epoch 105/150\n",
      "797/804 [============================>.] - ETA: 0s - loss: 0.4005 - accuracy: 0.8082\n",
      "Epoch 105: saving model to checkpoints\\opt_weights.105.hdf5\n",
      "804/804 [==============================] - 3s 4ms/step - loss: 0.4004 - accuracy: 0.8085\n",
      "Epoch 106/150\n",
      "804/804 [==============================] - 3s 4ms/step - loss: 0.4008 - accuracy: 0.8079\n",
      "Epoch 107/150\n",
      "804/804 [==============================] - 3s 4ms/step - loss: 0.4008 - accuracy: 0.8075\n",
      "Epoch 108/150\n",
      "804/804 [==============================] - 3s 4ms/step - loss: 0.4012 - accuracy: 0.8073\n",
      "Epoch 109/150\n",
      "804/804 [==============================] - 3s 4ms/step - loss: 0.4007 - accuracy: 0.8077\n",
      "Epoch 110/150\n",
      "800/804 [============================>.] - ETA: 0s - loss: 0.4006 - accuracy: 0.8073\n",
      "Epoch 110: saving model to checkpoints\\opt_weights.110.hdf5\n",
      "804/804 [==============================] - 3s 4ms/step - loss: 0.4003 - accuracy: 0.8076\n",
      "Epoch 111/150\n",
      "804/804 [==============================] - 3s 4ms/step - loss: 0.3998 - accuracy: 0.8078\n",
      "Epoch 112/150\n",
      "804/804 [==============================] - 3s 4ms/step - loss: 0.4002 - accuracy: 0.8069\n",
      "Epoch 113/150\n",
      "804/804 [==============================] - 3s 4ms/step - loss: 0.4008 - accuracy: 0.8091\n",
      "Epoch 114/150\n",
      "804/804 [==============================] - 3s 4ms/step - loss: 0.4004 - accuracy: 0.8073\n",
      "Epoch 115/150\n",
      "796/804 [============================>.] - ETA: 0s - loss: 0.4000 - accuracy: 0.8079\n",
      "Epoch 115: saving model to checkpoints\\opt_weights.115.hdf5\n",
      "804/804 [==============================] - 3s 4ms/step - loss: 0.4000 - accuracy: 0.8080\n",
      "Epoch 116/150\n",
      "804/804 [==============================] - 3s 4ms/step - loss: 0.4000 - accuracy: 0.8089\n",
      "Epoch 117/150\n",
      "804/804 [==============================] - 3s 4ms/step - loss: 0.4002 - accuracy: 0.8068\n",
      "Epoch 118/150\n",
      "804/804 [==============================] - 3s 4ms/step - loss: 0.4005 - accuracy: 0.8078\n",
      "Epoch 119/150\n",
      "804/804 [==============================] - 3s 4ms/step - loss: 0.4003 - accuracy: 0.8073\n",
      "Epoch 120/150\n",
      "792/804 [============================>.] - ETA: 0s - loss: 0.4007 - accuracy: 0.8070\n",
      "Epoch 120: saving model to checkpoints\\opt_weights.120.hdf5\n",
      "804/804 [==============================] - 3s 4ms/step - loss: 0.4005 - accuracy: 0.8070\n",
      "Epoch 121/150\n",
      "804/804 [==============================] - 4s 4ms/step - loss: 0.4005 - accuracy: 0.8080\n",
      "Epoch 122/150\n",
      "804/804 [==============================] - 3s 4ms/step - loss: 0.4002 - accuracy: 0.8078\n",
      "Epoch 123/150\n",
      "804/804 [==============================] - 3s 4ms/step - loss: 0.4006 - accuracy: 0.8077\n",
      "Epoch 124/150\n",
      "804/804 [==============================] - 3s 4ms/step - loss: 0.4003 - accuracy: 0.8073\n",
      "Epoch 125/150\n",
      "800/804 [============================>.] - ETA: 0s - loss: 0.4011 - accuracy: 0.8068\n",
      "Epoch 125: saving model to checkpoints\\opt_weights.125.hdf5\n",
      "804/804 [==============================] - 3s 4ms/step - loss: 0.4011 - accuracy: 0.8066\n"
     ]
    },
    {
     "name": "stdout",
     "output_type": "stream",
     "text": [
      "Epoch 126/150\n",
      "804/804 [==============================] - 3s 4ms/step - loss: 0.4002 - accuracy: 0.8078\n",
      "Epoch 127/150\n",
      "804/804 [==============================] - 3s 4ms/step - loss: 0.4004 - accuracy: 0.8082\n",
      "Epoch 128/150\n",
      "804/804 [==============================] - 3s 4ms/step - loss: 0.3994 - accuracy: 0.8086\n",
      "Epoch 129/150\n",
      "804/804 [==============================] - 3s 4ms/step - loss: 0.4005 - accuracy: 0.8075\n",
      "Epoch 130/150\n",
      "793/804 [============================>.] - ETA: 0s - loss: 0.4003 - accuracy: 0.8081\n",
      "Epoch 130: saving model to checkpoints\\opt_weights.130.hdf5\n",
      "804/804 [==============================] - 3s 4ms/step - loss: 0.4000 - accuracy: 0.8083\n",
      "Epoch 131/150\n",
      "804/804 [==============================] - 3s 4ms/step - loss: 0.4013 - accuracy: 0.8078\n",
      "Epoch 132/150\n",
      "804/804 [==============================] - 3s 4ms/step - loss: 0.3999 - accuracy: 0.8084\n",
      "Epoch 133/150\n",
      "804/804 [==============================] - 3s 4ms/step - loss: 0.3999 - accuracy: 0.8087\n",
      "Epoch 134/150\n",
      "804/804 [==============================] - 3s 4ms/step - loss: 0.3998 - accuracy: 0.8086\n",
      "Epoch 135/150\n",
      "804/804 [==============================] - ETA: 0s - loss: 0.3994 - accuracy: 0.8089\n",
      "Epoch 135: saving model to checkpoints\\opt_weights.135.hdf5\n",
      "804/804 [==============================] - 3s 4ms/step - loss: 0.3994 - accuracy: 0.8089\n",
      "Epoch 136/150\n",
      "804/804 [==============================] - 3s 4ms/step - loss: 0.3989 - accuracy: 0.8101\n",
      "Epoch 137/150\n",
      "804/804 [==============================] - 3s 4ms/step - loss: 0.3990 - accuracy: 0.8088\n",
      "Epoch 138/150\n",
      "804/804 [==============================] - 3s 4ms/step - loss: 0.3992 - accuracy: 0.8081\n",
      "Epoch 139/150\n",
      "804/804 [==============================] - 3s 4ms/step - loss: 0.3993 - accuracy: 0.8081\n",
      "Epoch 140/150\n",
      "796/804 [============================>.] - ETA: 0s - loss: 0.3990 - accuracy: 0.8085\n",
      "Epoch 140: saving model to checkpoints\\opt_weights.140.hdf5\n",
      "804/804 [==============================] - 3s 4ms/step - loss: 0.3991 - accuracy: 0.8085\n",
      "Epoch 141/150\n",
      "804/804 [==============================] - 3s 4ms/step - loss: 0.3989 - accuracy: 0.8087\n",
      "Epoch 142/150\n",
      "804/804 [==============================] - 3s 4ms/step - loss: 0.3989 - accuracy: 0.8085\n",
      "Epoch 143/150\n",
      "804/804 [==============================] - 3s 4ms/step - loss: 0.3993 - accuracy: 0.8074\n",
      "Epoch 144/150\n",
      "804/804 [==============================] - 3s 4ms/step - loss: 0.3992 - accuracy: 0.8082\n",
      "Epoch 145/150\n",
      "801/804 [============================>.] - ETA: 0s - loss: 0.3991 - accuracy: 0.8076\n",
      "Epoch 145: saving model to checkpoints\\opt_weights.145.hdf5\n",
      "804/804 [==============================] - 3s 4ms/step - loss: 0.3994 - accuracy: 0.8075\n",
      "Epoch 146/150\n",
      "804/804 [==============================] - 3s 4ms/step - loss: 0.3991 - accuracy: 0.8080\n",
      "Epoch 147/150\n",
      "804/804 [==============================] - 3s 4ms/step - loss: 0.3987 - accuracy: 0.8102\n",
      "Epoch 148/150\n",
      "804/804 [==============================] - 3s 4ms/step - loss: 0.3992 - accuracy: 0.8098\n",
      "Epoch 149/150\n",
      "804/804 [==============================] - 3s 4ms/step - loss: 0.3986 - accuracy: 0.8089\n",
      "Epoch 150/150\n",
      "799/804 [============================>.] - ETA: 0s - loss: 0.3997 - accuracy: 0.8091\n",
      "Epoch 150: saving model to checkpoints\\opt_weights.150.hdf5\n",
      "804/804 [==============================] - 3s 4ms/step - loss: 0.3998 - accuracy: 0.8090\n"
     ]
    }
   ],
   "source": [
    "# Train the model\n",
    "fit_model = nn.fit(X_train_scaled, y_train, epochs=150, callbacks=[cp_callback])"
   ]
  },
  {
   "cell_type": "code",
   "execution_count": 27,
   "metadata": {},
   "outputs": [
    {
     "name": "stdout",
     "output_type": "stream",
     "text": [
      "268/268 - 0s - loss: 0.4782 - accuracy: 0.7862 - 498ms/epoch - 2ms/step\n",
      "Loss: 0.47818872332572937, Accuracy: 0.7862390875816345\n"
     ]
    }
   ],
   "source": [
    "# Evaluate the model using the test data\n",
    "model_loss, model_accuracy = nn.evaluate(X_test_scaled,y_test,verbose=2)\n",
    "print(f\"Loss: {model_loss}, Accuracy: {model_accuracy}\")"
   ]
  },
  {
   "cell_type": "code",
   "execution_count": 43,
   "metadata": {},
   "outputs": [],
   "source": [
    "# Create a DataFrame containing training history\n",
    "history_df = pd.DataFrame(fit_model.history, index=range(1,len(fit_model.history[\"loss\"])+1))"
   ]
  },
  {
   "cell_type": "code",
   "execution_count": 44,
   "metadata": {},
   "outputs": [
    {
     "data": {
      "text/plain": [
       "<AxesSubplot:>"
      ]
     },
     "execution_count": 44,
     "metadata": {},
     "output_type": "execute_result"
    },
    {
     "data": {
      "image/png": "[encoded data removed]",
      "text/plain": [
       "<Figure size 432x288 with 1 Axes>"
      ]
     },
     "metadata": {
      "needs_background": "light"
     },
     "output_type": "display_data"
    }
   ],
   "source": [
    "# Plot loss\n",
    "history_df.plot(y=\"loss\")"
   ]
  },
  {
   "cell_type": "code",
   "execution_count": 45,
   "metadata": {},
   "outputs": [
    {
     "data": {
      "text/plain": [
       "<AxesSubplot:>"
      ]
     },
     "execution_count": 45,
     "metadata": {},
     "output_type": "execute_result"
    },
    {
     "data": {
      "image/png": "[encoded data removed]",
      "text/plain": [
       "<Figure size 432x288 with 1 Axes>"
      ]
     },
     "metadata": {
      "needs_background": "light"
     },
     "output_type": "display_data"
    }
   ],
   "source": [
    "# Plot accuracy\n",
    "history_df.plot(y=\"accuracy\")"
   ]
  },
  {
   "cell_type": "code",
   "execution_count": null,
   "metadata": {},
   "outputs": [],
   "source": [
    "# Save nn model\n",
    "nn.save(\"Trained_Models/AlphabetSoupCharity_D3.h5\")"
   ]
  },
  {
   "cell_type": "code",
   "execution_count": null,
   "metadata": {},
   "outputs": [],
   "source": [
    "# Import the model and check for exact prior results\n",
    "nn_imported = tf.keras.models.load_model(\"Trained_Models/AlphabetSoupCharity_D3.h5\")\n",
    "model_loss, model_accuracy = nn_imported.evaluate(X_test_scaled, y_test, verbose=2)\n",
    "print(f\"Loss: {model_loss}, Accuracy: {model_accuracy}\")"
   ]
  },
  {
   "cell_type": "markdown",
   "metadata": {},
   "source": [
    "## Comparing RandomForest"
   ]
  },
  {
   "cell_type": "code",
   "execution_count": 30,
   "metadata": {},
   "outputs": [],
   "source": [
    "# import dependencies\n",
    "from sklearn.metrics import classification_report, accuracy_score, confusion_matrix, ConfusionMatrixDisplay\n",
    "from sklearn.ensemble import RandomForestClassifier"
   ]
  },
  {
   "cell_type": "code",
   "execution_count": 31,
   "metadata": {},
   "outputs": [
    {
     "name": "stdout",
     "output_type": "stream",
     "text": [
      "Random Forest model accuracy: 0.772\n"
     ]
    }
   ],
   "source": [
    "# Create random forest classifier\n",
    "rf = RandomForestClassifier(n_estimators=128, random_state=42)\n",
    "\n",
    "# fit the model\n",
    "rf = rf.fit(X_train_scaled, y_train)\n",
    "\n",
    "# Evaluate the model\n",
    "y_pred = rf.predict(X_test_scaled)\n",
    "print(f'Random Forest model accuracy: {accuracy_score(y_test,y_pred):.3f}')"
   ]
  },
  {
   "cell_type": "code",
   "execution_count": 33,
   "metadata": {},
   "outputs": [
    {
     "data": {
      "text/plain": [
       "array([[2762, 1248],\n",
       "       [ 707, 3858]], dtype=int64)"
      ]
     },
     "execution_count": 33,
     "metadata": {},
     "output_type": "execute_result"
    }
   ],
   "source": [
    "# Create basic confusion matrix to display results\n",
    "cm = confusion_matrix(y_test, y_pred)\n",
    "cm"
   ]
  },
  {
   "cell_type": "code",
   "execution_count": 34,
   "metadata": {},
   "outputs": [
    {
     "data": {
      "text/plain": [
       "<sklearn.metrics._plot.confusion_matrix.ConfusionMatrixDisplay at 0x206c3a9c148>"
      ]
     },
     "execution_count": 34,
     "metadata": {},
     "output_type": "execute_result"
    },
    {
     "data": {
      "image/png": "[encoded data removed]",
      "text/plain": [
       "<Figure size 432x288 with 2 Axes>"
      ]
     },
     "metadata": {
      "needs_background": "light"
     },
     "output_type": "display_data"
    }
   ],
   "source": [
    "# Chart the results in a neat format\n",
    "cm_disp = ConfusionMatrixDisplay(confusion_matrix=cm, display_labels=rf.classes_)\n",
    "cm_disp.plot()"
   ]
  },
  {
   "cell_type": "code",
   "execution_count": 35,
   "metadata": {},
   "outputs": [
    {
     "name": "stdout",
     "output_type": "stream",
     "text": [
      "              precision    recall  f1-score   support\n",
      "\n",
      "           0       0.80      0.69      0.74      4010\n",
      "           1       0.76      0.85      0.80      4565\n",
      "\n",
      "    accuracy                           0.77      8575\n",
      "   macro avg       0.78      0.77      0.77      8575\n",
      "weighted avg       0.77      0.77      0.77      8575\n",
      "\n"
     ]
    }
   ],
   "source": [
    "# Print out classification report\n",
    "class_report = classification_report(y_test, y_pred)\n",
    "print(class_report)"
   ]
  },
  {
   "cell_type": "code",
   "execution_count": 42,
   "metadata": {},
   "outputs": [
    {
     "data": {
      "text/html": [
       "<div>\n",
       "<style scoped>\n",
       "    .dataframe tbody tr th:only-of-type {\n",
       "        vertical-align: middle;\n",
       "    }\n",
       "\n",
       "    .dataframe tbody tr th {\n",
       "        vertical-align: top;\n",
       "    }\n",
       "\n",
       "    .dataframe thead th {\n",
       "        text-align: right;\n",
       "    }\n",
       "</style>\n",
       "<table border=\"1\" class=\"dataframe\">\n",
       "  <thead>\n",
       "    <tr style=\"text-align: right;\">\n",
       "      <th></th>\n",
       "      <th>feature</th>\n",
       "      <th>importance</th>\n",
       "    </tr>\n",
       "  </thead>\n",
       "  <tbody>\n",
       "    <tr>\n",
       "      <th>0</th>\n",
       "      <td>ASK_AMT</td>\n",
       "      <td>0.272322</td>\n",
       "    </tr>\n",
       "    <tr>\n",
       "      <th>238</th>\n",
       "      <td>NAME_Other</td>\n",
       "      <td>0.072928</td>\n",
       "    </tr>\n",
       "    <tr>\n",
       "      <th>364</th>\n",
       "      <td>AFFILIATION_CompanySponsored</td>\n",
       "      <td>0.070203</td>\n",
       "    </tr>\n",
       "    <tr>\n",
       "      <th>366</th>\n",
       "      <td>AFFILIATION_Independent</td>\n",
       "      <td>0.052194</td>\n",
       "    </tr>\n",
       "    <tr>\n",
       "      <th>381</th>\n",
       "      <td>ORGANIZATION_Association</td>\n",
       "      <td>0.017294</td>\n",
       "    </tr>\n",
       "    <tr>\n",
       "      <th>309</th>\n",
       "      <td>NAME_TOASTMASTERS INTERNATIONAL</td>\n",
       "      <td>0.016837</td>\n",
       "    </tr>\n",
       "    <tr>\n",
       "      <th>360</th>\n",
       "      <td>APPLICATION_TYPE_T5</td>\n",
       "      <td>0.015912</td>\n",
       "    </tr>\n",
       "    <tr>\n",
       "      <th>384</th>\n",
       "      <td>ORGANIZATION_Trust</td>\n",
       "      <td>0.014590</td>\n",
       "    </tr>\n",
       "    <tr>\n",
       "      <th>310</th>\n",
       "      <td>NAME_TOPS CLUB INC</td>\n",
       "      <td>0.013618</td>\n",
       "    </tr>\n",
       "    <tr>\n",
       "      <th>356</th>\n",
       "      <td>APPLICATION_TYPE_Other</td>\n",
       "      <td>0.013122</td>\n",
       "    </tr>\n",
       "  </tbody>\n",
       "</table>\n",
       "</div>"
      ],
      "text/plain": [
       "                             feature  importance\n",
       "0                            ASK_AMT    0.272322\n",
       "238                       NAME_Other    0.072928\n",
       "364     AFFILIATION_CompanySponsored    0.070203\n",
       "366          AFFILIATION_Independent    0.052194\n",
       "381         ORGANIZATION_Association    0.017294\n",
       "309  NAME_TOASTMASTERS INTERNATIONAL    0.016837\n",
       "360              APPLICATION_TYPE_T5    0.015912\n",
       "384               ORGANIZATION_Trust    0.014590\n",
       "310               NAME_TOPS CLUB INC    0.013618\n",
       "356           APPLICATION_TYPE_Other    0.013122"
      ]
     },
     "execution_count": 42,
     "metadata": {},
     "output_type": "execute_result"
    }
   ],
   "source": [
    "# Get feature importances\n",
    "importances = rf.feature_importances_\n",
    "\n",
    "# Get column names\n",
    "cols = application_df.drop(columns=\"IS_SUCCESSFUL\").columns\n",
    "\n",
    "rf_important_df = pd.DataFrame({\"feature\":cols, \"importance\":importances}).sort_values(\"importance\", ascending=False)\n",
    "rf_important_df.head(10)"
   ]
  },
  {
   "cell_type": "code",
   "execution_count": null,
   "metadata": {},
   "outputs": [],
   "source": []
  },
  {
   "cell_type": "code",
   "execution_count": null,
   "metadata": {},
   "outputs": [],
   "source": []
  }
 ],
 "metadata": {
  "kernelspec": {
   "display_name": "mlenv",
   "language": "python",
   "name": "mlenv"
  },
  "language_info": {
   "codemirror_mode": {
    "name": "ipython",
    "version": 3
   },
   "file_extension": ".py",
   "mimetype": "text/x-python",
   "name": "python",
   "nbconvert_exporter": "python",
   "pygments_lexer": "ipython3",
   "version": "3.7.11"
  }
 },
 "nbformat": 4,
 "nbformat_minor": 2
}
